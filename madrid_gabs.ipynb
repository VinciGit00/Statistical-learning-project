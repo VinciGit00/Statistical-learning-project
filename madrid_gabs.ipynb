{
 "cells": [
  {
   "cell_type": "code",
   "execution_count": 37,
   "metadata": {},
   "outputs": [],
   "source": [
    "import pandas as pd\n",
    "from sklearn.linear_model import LinearRegression\n",
    "from sklearn.preprocessing import StandardScaler \n",
    "pd.set_option('display.max_columns', None)"
   ]
  },
  {
   "cell_type": "code",
   "execution_count": 38,
   "metadata": {},
   "outputs": [
    {
     "data": {
      "text/html": [
       "<div>\n",
       "<style scoped>\n",
       "    .dataframe tbody tr th:only-of-type {\n",
       "        vertical-align: middle;\n",
       "    }\n",
       "\n",
       "    .dataframe tbody tr th {\n",
       "        vertical-align: top;\n",
       "    }\n",
       "\n",
       "    .dataframe thead th {\n",
       "        text-align: right;\n",
       "    }\n",
       "</style>\n",
       "<table border=\"1\" class=\"dataframe\">\n",
       "  <thead>\n",
       "    <tr style=\"text-align: right;\">\n",
       "      <th></th>\n",
       "      <th>ad_description</th>\n",
       "      <th>ad_last_update</th>\n",
       "      <th>air_conditioner</th>\n",
       "      <th>balcony</th>\n",
       "      <th>bath_num</th>\n",
       "      <th>built_in_wardrobe</th>\n",
       "      <th>chimney</th>\n",
       "      <th>condition</th>\n",
       "      <th>construct_date</th>\n",
       "      <th>energetic_certif</th>\n",
       "      <th>floor</th>\n",
       "      <th>garage</th>\n",
       "      <th>garden</th>\n",
       "      <th>ground_size</th>\n",
       "      <th>heating</th>\n",
       "      <th>house_id</th>\n",
       "      <th>house_type</th>\n",
       "      <th>kitchen</th>\n",
       "      <th>lift</th>\n",
       "      <th>loc_city</th>\n",
       "      <th>loc_district</th>\n",
       "      <th>loc_full</th>\n",
       "      <th>loc_neigh</th>\n",
       "      <th>loc_street</th>\n",
       "      <th>loc_zone</th>\n",
       "      <th>m2_real</th>\n",
       "      <th>m2_useful</th>\n",
       "      <th>obtention_date</th>\n",
       "      <th>orientation</th>\n",
       "      <th>price</th>\n",
       "      <th>reduced_mobility</th>\n",
       "      <th>room_num</th>\n",
       "      <th>storage_room</th>\n",
       "      <th>swimming_pool</th>\n",
       "      <th>terrace</th>\n",
       "      <th>unfurnished</th>\n",
       "    </tr>\n",
       "  </thead>\n",
       "  <tbody>\n",
       "    <tr>\n",
       "      <th>0</th>\n",
       "      <td>Particular vende piso de 103 m² en Pinto, prov...</td>\n",
       "      <td>Anuncio actualizado el 10 de abril</td>\n",
       "      <td>1</td>\n",
       "      <td>0</td>\n",
       "      <td>1</td>\n",
       "      <td>0</td>\n",
       "      <td>0</td>\n",
       "      <td>segunda mano/buen estado</td>\n",
       "      <td>1976</td>\n",
       "      <td>en trámite</td>\n",
       "      <td>planta 4ª exterior</td>\n",
       "      <td>plaza de garaje incluida en el precio</td>\n",
       "      <td>0</td>\n",
       "      <td>NaN</td>\n",
       "      <td>NaN</td>\n",
       "      <td>83346506</td>\n",
       "      <td>Piso</td>\n",
       "      <td>NaN</td>\n",
       "      <td>1</td>\n",
       "      <td>Pinto</td>\n",
       "      <td>Distrito Parque Europa - Los Pitufos</td>\n",
       "      <td>, Distrito Parque Europa - Los Pitufos , Pint...</td>\n",
       "      <td>NaN</td>\n",
       "      <td>NaN</td>\n",
       "      <td>Zona sur, Madrid</td>\n",
       "      <td>103</td>\n",
       "      <td>96</td>\n",
       "      <td>2019-04-12</td>\n",
       "      <td>NaN</td>\n",
       "      <td>164900</td>\n",
       "      <td>0</td>\n",
       "      <td>3</td>\n",
       "      <td>0</td>\n",
       "      <td>0</td>\n",
       "      <td>1</td>\n",
       "      <td>NaN</td>\n",
       "    </tr>\n",
       "    <tr>\n",
       "      <th>1</th>\n",
       "      <td>El suelo de la planta superior es de tarima, l...</td>\n",
       "      <td>más de 5 meses sin actualizar</td>\n",
       "      <td>1</td>\n",
       "      <td>0</td>\n",
       "      <td>2</td>\n",
       "      <td>1</td>\n",
       "      <td>0</td>\n",
       "      <td>segunda mano/buen estado</td>\n",
       "      <td>NaN</td>\n",
       "      <td>no indicado</td>\n",
       "      <td>2 plantas</td>\n",
       "      <td>plaza de garaje incluida en el precio</td>\n",
       "      <td>0</td>\n",
       "      <td>NaN</td>\n",
       "      <td>NaN</td>\n",
       "      <td>38939811</td>\n",
       "      <td>Chalet adosado</td>\n",
       "      <td>NaN</td>\n",
       "      <td>NaN</td>\n",
       "      <td>Pinto</td>\n",
       "      <td>Distrito Parque Europa - Los Pitufos</td>\n",
       "      <td>Calle de la Paz, 7 , Urb. los pitufos , Distr...</td>\n",
       "      <td>Urb. los pitufos</td>\n",
       "      <td>Calle de la Paz, 7</td>\n",
       "      <td>Zona sur, Madrid</td>\n",
       "      <td>120</td>\n",
       "      <td>NaN</td>\n",
       "      <td>2019-04-12</td>\n",
       "      <td>NaN</td>\n",
       "      <td>370000</td>\n",
       "      <td>0</td>\n",
       "      <td>4</td>\n",
       "      <td>1</td>\n",
       "      <td>0</td>\n",
       "      <td>1</td>\n",
       "      <td>NaN</td>\n",
       "    </tr>\n",
       "    <tr>\n",
       "      <th>2</th>\n",
       "      <td>NaN</td>\n",
       "      <td>más de 5 meses sin actualizar</td>\n",
       "      <td>0</td>\n",
       "      <td>0</td>\n",
       "      <td>2</td>\n",
       "      <td>0</td>\n",
       "      <td>0</td>\n",
       "      <td>segunda mano/buen estado</td>\n",
       "      <td>NaN</td>\n",
       "      <td>no indicado</td>\n",
       "      <td>planta 2ª exterior</td>\n",
       "      <td>plaza de garaje incluida en el precio</td>\n",
       "      <td>0</td>\n",
       "      <td>NaN</td>\n",
       "      <td>NaN</td>\n",
       "      <td>29193861</td>\n",
       "      <td>Piso</td>\n",
       "      <td>NaN</td>\n",
       "      <td>1</td>\n",
       "      <td>Pinto</td>\n",
       "      <td>Distrito Puerta Pinto - Valparaíso</td>\n",
       "      <td>Calle de San Juan, 18 , Distrito Puerta Pinto...</td>\n",
       "      <td>Calle de San Juan, 18</td>\n",
       "      <td>NaN</td>\n",
       "      <td>Zona sur, Madrid</td>\n",
       "      <td>99</td>\n",
       "      <td>NaN</td>\n",
       "      <td>2019-04-12</td>\n",
       "      <td>NaN</td>\n",
       "      <td>190000</td>\n",
       "      <td>0</td>\n",
       "      <td>3</td>\n",
       "      <td>0</td>\n",
       "      <td>0</td>\n",
       "      <td>0</td>\n",
       "      <td>NaN</td>\n",
       "    </tr>\n",
       "    <tr>\n",
       "      <th>3</th>\n",
       "      <td>NaN</td>\n",
       "      <td>más de 5 meses sin actualizar</td>\n",
       "      <td>1</td>\n",
       "      <td>0</td>\n",
       "      <td>3</td>\n",
       "      <td>1</td>\n",
       "      <td>0</td>\n",
       "      <td>segunda mano/buen estado</td>\n",
       "      <td>NaN</td>\n",
       "      <td>NaN</td>\n",
       "      <td>4 plantas</td>\n",
       "      <td>plaza de garaje incluida en el precio</td>\n",
       "      <td>1</td>\n",
       "      <td>NaN</td>\n",
       "      <td>NaN</td>\n",
       "      <td>37200315</td>\n",
       "      <td>Chalet pareado</td>\n",
       "      <td>NaN</td>\n",
       "      <td>NaN</td>\n",
       "      <td>Pinto</td>\n",
       "      <td>Distrito Parque Europa - Los Pitufos</td>\n",
       "      <td>Calle Suecia, 9 , Urb. Parque Europa , Distri...</td>\n",
       "      <td>Urb. Parque Europa</td>\n",
       "      <td>Calle Suecia, 9</td>\n",
       "      <td>Zona sur, Madrid</td>\n",
       "      <td>240</td>\n",
       "      <td>215</td>\n",
       "      <td>2019-04-12</td>\n",
       "      <td>norte, sur</td>\n",
       "      <td>450000</td>\n",
       "      <td>0</td>\n",
       "      <td>4</td>\n",
       "      <td>1</td>\n",
       "      <td>1</td>\n",
       "      <td>1</td>\n",
       "      <td>NaN</td>\n",
       "    </tr>\n",
       "    <tr>\n",
       "      <th>4</th>\n",
       "      <td>Parque Europa. Plaza David Martín junto ambula...</td>\n",
       "      <td>más de 5 meses sin actualizar</td>\n",
       "      <td>1</td>\n",
       "      <td>0</td>\n",
       "      <td>2</td>\n",
       "      <td>1</td>\n",
       "      <td>0</td>\n",
       "      <td>segunda mano/buen estado</td>\n",
       "      <td>2000</td>\n",
       "      <td>no indicado</td>\n",
       "      <td>planta 3ª exterior</td>\n",
       "      <td>plaza de garaje incluida en el precio</td>\n",
       "      <td>1</td>\n",
       "      <td>NaN</td>\n",
       "      <td>NaN</td>\n",
       "      <td>1806508</td>\n",
       "      <td>Dúplex</td>\n",
       "      <td>NaN</td>\n",
       "      <td>1</td>\n",
       "      <td>Pinto</td>\n",
       "      <td>Distrito Parque Europa - Los Pitufos</td>\n",
       "      <td>Avenida Europa, 29 , Distrito Parque Europa -...</td>\n",
       "      <td>Avenida Europa, 29</td>\n",
       "      <td>NaN</td>\n",
       "      <td>Zona sur, Madrid</td>\n",
       "      <td>169</td>\n",
       "      <td>100</td>\n",
       "      <td>2019-04-12</td>\n",
       "      <td>sur, este</td>\n",
       "      <td>282000</td>\n",
       "      <td>1</td>\n",
       "      <td>4</td>\n",
       "      <td>1</td>\n",
       "      <td>0</td>\n",
       "      <td>1</td>\n",
       "      <td>NaN</td>\n",
       "    </tr>\n",
       "  </tbody>\n",
       "</table>\n",
       "</div>"
      ],
      "text/plain": [
       "                                      ad_description  \\\n",
       "0  Particular vende piso de 103 m² en Pinto, prov...   \n",
       "1  El suelo de la planta superior es de tarima, l...   \n",
       "2                                                NaN   \n",
       "3                                                NaN   \n",
       "4  Parque Europa. Plaza David Martín junto ambula...   \n",
       "\n",
       "                       ad_last_update air_conditioner balcony bath_num  \\\n",
       "0  Anuncio actualizado el 10 de abril               1       0        1   \n",
       "1       más de 5 meses sin actualizar               1       0        2   \n",
       "2       más de 5 meses sin actualizar               0       0        2   \n",
       "3       más de 5 meses sin actualizar               1       0        3   \n",
       "4       más de 5 meses sin actualizar               1       0        2   \n",
       "\n",
       "  built_in_wardrobe chimney                 condition construct_date  \\\n",
       "0                 0       0  segunda mano/buen estado           1976   \n",
       "1                 1       0  segunda mano/buen estado            NaN   \n",
       "2                 0       0  segunda mano/buen estado            NaN   \n",
       "3                 1       0  segunda mano/buen estado            NaN   \n",
       "4                 1       0  segunda mano/buen estado           2000   \n",
       "\n",
       "  energetic_certif               floor                                 garage  \\\n",
       "0       en trámite  planta 4ª exterior  plaza de garaje incluida en el precio   \n",
       "1      no indicado           2 plantas  plaza de garaje incluida en el precio   \n",
       "2      no indicado  planta 2ª exterior  plaza de garaje incluida en el precio   \n",
       "3              NaN           4 plantas  plaza de garaje incluida en el precio   \n",
       "4      no indicado  planta 3ª exterior  plaza de garaje incluida en el precio   \n",
       "\n",
       "  garden ground_size heating  house_id       house_type kitchen lift loc_city  \\\n",
       "0      0         NaN     NaN  83346506             Piso     NaN    1    Pinto   \n",
       "1      0         NaN     NaN  38939811   Chalet adosado     NaN  NaN    Pinto   \n",
       "2      0         NaN     NaN  29193861             Piso     NaN    1    Pinto   \n",
       "3      1         NaN     NaN  37200315   Chalet pareado     NaN  NaN    Pinto   \n",
       "4      1         NaN     NaN   1806508           Dúplex     NaN    1    Pinto   \n",
       "\n",
       "                           loc_district  \\\n",
       "0  Distrito Parque Europa - Los Pitufos   \n",
       "1  Distrito Parque Europa - Los Pitufos   \n",
       "2    Distrito Puerta Pinto - Valparaíso   \n",
       "3  Distrito Parque Europa - Los Pitufos   \n",
       "4  Distrito Parque Europa - Los Pitufos   \n",
       "\n",
       "                                            loc_full              loc_neigh  \\\n",
       "0   , Distrito Parque Europa - Los Pitufos , Pint...                    NaN   \n",
       "1   Calle de la Paz, 7 , Urb. los pitufos , Distr...       Urb. los pitufos   \n",
       "2   Calle de San Juan, 18 , Distrito Puerta Pinto...  Calle de San Juan, 18   \n",
       "3   Calle Suecia, 9 , Urb. Parque Europa , Distri...     Urb. Parque Europa   \n",
       "4   Avenida Europa, 29 , Distrito Parque Europa -...     Avenida Europa, 29   \n",
       "\n",
       "           loc_street          loc_zone m2_real m2_useful obtention_date  \\\n",
       "0                 NaN  Zona sur, Madrid     103        96     2019-04-12   \n",
       "1  Calle de la Paz, 7  Zona sur, Madrid     120       NaN     2019-04-12   \n",
       "2                 NaN  Zona sur, Madrid      99       NaN     2019-04-12   \n",
       "3     Calle Suecia, 9  Zona sur, Madrid     240       215     2019-04-12   \n",
       "4                 NaN  Zona sur, Madrid     169       100     2019-04-12   \n",
       "\n",
       "  orientation   price reduced_mobility room_num storage_room swimming_pool  \\\n",
       "0         NaN  164900                0        3            0             0   \n",
       "1         NaN  370000                0        4            1             0   \n",
       "2         NaN  190000                0        3            0             0   \n",
       "3  norte, sur  450000                0        4            1             1   \n",
       "4   sur, este  282000                1        4            1             0   \n",
       "\n",
       "  terrace unfurnished  \n",
       "0       1         NaN  \n",
       "1       1         NaN  \n",
       "2       0         NaN  \n",
       "3       1         NaN  \n",
       "4       1         NaN  "
      ]
     },
     "execution_count": 38,
     "metadata": {},
     "output_type": "execute_result"
    }
   ],
   "source": [
    "df = pd.read_csv(\"houses_madrid.csv\")\n",
    "df.head()\n"
   ]
  },
  {
   "cell_type": "code",
   "execution_count": 39,
   "metadata": {},
   "outputs": [],
   "source": [
    "## FIX \"CONDITION\" COLUMN\n",
    "df = df[df['condition'] != 'condition'] # rimuovo righe che contengono 'condition'\n",
    "df = df.dropna(subset=['condition']) # rimuovo nulls\n",
    "condition_dummies = pd.get_dummies(df['condition'], dtype=int) \n",
    "df = pd.concat([df, condition_dummies], axis='columns')\n",
    "df = df.drop('condition', axis=1)\n",
    "\n",
    "#print(df['condition'].unique())\n",
    "#df.head()"
   ]
  },
  {
   "cell_type": "code",
   "execution_count": 40,
   "metadata": {},
   "outputs": [
    {
     "name": "stderr",
     "output_type": "stream",
     "text": [
      "C:\\Users\\march\\AppData\\Local\\Temp\\ipykernel_29596\\1733584923.py:2: FutureWarning: Downcasting behavior in `replace` is deprecated and will be removed in a future version. To retain the old behavior, explicitly call `result.infer_objects(copy=False)`. To opt-in to the future behavior, set `pd.set_option('future.no_silent_downcasting', True)`\n",
      "  df = df.replace('sin baños', 0)\n"
     ]
    }
   ],
   "source": [
    "## FIX \"BATH NUM\" COLUMN\n",
    "df = df.replace('sin baños', 0)"
   ]
  },
  {
   "cell_type": "code",
   "execution_count": 41,
   "metadata": {},
   "outputs": [],
   "source": [
    "## FIX \"CONSTRACT DATE\" COLUMN\n",
    "df = df.dropna(subset=['construct_date']) # rimuovo nulls"
   ]
  },
  {
   "cell_type": "code",
   "execution_count": 42,
   "metadata": {},
   "outputs": [],
   "source": [
    "## FIX \"LIFT\" COLUMN\n",
    "df = df.dropna(subset=['lift']) # rimuovo nulls"
   ]
  },
  {
   "cell_type": "code",
   "execution_count": 43,
   "metadata": {},
   "outputs": [],
   "source": [
    "## FIX \"M2 USEFUL\" COLUMN\n",
    "df = df.dropna(subset=['m2_useful']) # rimuovo nulls"
   ]
  },
  {
   "cell_type": "code",
   "execution_count": 44,
   "metadata": {},
   "outputs": [],
   "source": [
    "## FIX \"ROOM NUM\" COLUMN\n",
    "df = df.replace('sin habitación', 0)"
   ]
  },
  {
   "cell_type": "code",
   "execution_count": 45,
   "metadata": {},
   "outputs": [
    {
     "name": "stdout",
     "output_type": "stream",
     "text": [
      "['en trámite' 'no indicado' nan 'inmueble exento']\n"
     ]
    }
   ],
   "source": [
    "## FIX \"ENERGETIC CERTIF\" COLUMN\n",
    "print(df['energetic_certif'].unique())\n",
    "\n",
    "df = df.dropna(subset=['energetic_certif']) # rimuovo nulls\n",
    "energetic_certif_dummies = pd.get_dummies(df['energetic_certif'], dtype=int) \n",
    "df = pd.concat([df, energetic_certif_dummies ], axis='columns')\n",
    "df = df.drop('energetic_certif', axis=1)"
   ]
  },
  {
   "cell_type": "code",
   "execution_count": 46,
   "metadata": {},
   "outputs": [],
   "source": [
    "## FIX \"GARAGE\" COLUMN\n",
    "# TODO: trasformare dummy variable in: \"garage incluso\" / \"garage non incluso\"\n",
    "df = df.dropna(subset=['garage']) # rimuovo nulls\n",
    "garage_dummies = pd.get_dummies(df['garage'], dtype=int) \n",
    "df = pd.concat([df, garage_dummies], axis='columns')\n",
    "df = df.drop('garage', axis=1)"
   ]
  },
  {
   "cell_type": "code",
   "execution_count": 47,
   "metadata": {},
   "outputs": [],
   "source": [
    "## FIX \"HOUSE TYPE\" COLUMN\n",
    "house_type_dummies = pd.get_dummies(df['house_type'], dtype=int) \n",
    "df = pd.concat([df, house_type_dummies  ], axis='columns')\n",
    "df = df.drop('house_type', axis=1)"
   ]
  },
  {
   "cell_type": "code",
   "execution_count": 48,
   "metadata": {},
   "outputs": [],
   "source": [
    "## FIX \"HEATING\" COLUMN\n",
    "df = df.dropna(subset=['heating']) # rimuovo nulls\n",
    "heating_dummies = pd.get_dummies(df['heating'], dtype=int) \n",
    "df = pd.concat([df, heating_dummies], axis='columns')\n",
    "df = df.drop('heating', axis=1)"
   ]
  },
  {
   "cell_type": "code",
   "execution_count": 49,
   "metadata": {},
   "outputs": [],
   "source": [
    "df = df.drop([\"ad_description\", \"ad_last_update\", \"floor\", \n",
    "            \"loc_district\", \"loc_full\", \"loc_neigh\", \"loc_street\", \"loc_zone\", \"orientation\",\n",
    "            \"obtention_date\", \"house_id\", \"loc_city\", \"ground_size\", \n",
    "             \"unfurnished\", \"kitchen\"], axis=1)"
   ]
  },
  {
   "cell_type": "code",
   "execution_count": 50,
   "metadata": {},
   "outputs": [],
   "source": [
    "y = df[\"price\"]\n",
    "df = df.drop(\"price\", axis=1)"
   ]
  },
  {
   "cell_type": "code",
   "execution_count": 51,
   "metadata": {},
   "outputs": [
    {
     "name": "stdout",
     "output_type": "stream",
     "text": [
      "(202, 44)\n"
     ]
    }
   ],
   "source": [
    "X = df\n",
    "print(X.shape)"
   ]
  },
  {
   "cell_type": "code",
   "execution_count": 52,
   "metadata": {},
   "outputs": [],
   "source": [
    "scaler = StandardScaler() \n",
    "  \n",
    "# transform data \n",
    "scaler.fit(X) \n",
    "X = scaler.transform(X)"
   ]
  },
  {
   "cell_type": "code",
   "execution_count": 53,
   "metadata": {},
   "outputs": [
    {
     "data": {
      "text/plain": [
       "0.8361423881002219"
      ]
     },
     "execution_count": 53,
     "metadata": {},
     "output_type": "execute_result"
    }
   ],
   "source": [
    "reg = LinearRegression().fit(X, y)\n",
    "reg.score(X, y)\n"
   ]
  },
  {
   "cell_type": "code",
   "execution_count": 54,
   "metadata": {},
   "outputs": [
    {
     "name": "stdout",
     "output_type": "stream",
     "text": [
      "[ 2.55590001e+04  3.31464257e+04  4.48077322e+04  1.52182845e+04\n",
      " -1.26494504e+17 -2.71499023e+05 -5.17685137e+04  4.17653198e+04\n",
      "  2.55543835e+05  8.85668783e+04  8.66458824e+03 -1.68693903e+05\n",
      "  2.49799809e+04  4.78749240e+04 -4.34934662e+04 -1.30057664e+14\n",
      "  2.86866689e+17  2.86866689e+17 -1.45376291e+16 -7.25264365e+15\n",
      " -1.30389198e+16  3.61783924e+17  1.11901077e+17  1.11901077e+17\n",
      "  1.11901077e+17  1.11901077e+17  1.11901077e+17  1.11901077e+17\n",
      "  1.11901077e+17  1.57857868e+17  1.11901077e+17  1.11901077e+17\n",
      "  1.58682330e+17  1.02746207e+17  2.26441611e+17  1.48513083e+17\n",
      " -6.40813611e+16 -7.14458483e+16 -3.13364038e+16 -7.88694140e+16\n",
      " -5.71254331e+16 -5.31684485e+16 -2.22698124e+16 -1.12457040e+17]\n"
     ]
    }
   ],
   "source": [
    "print(reg.coef_)"
   ]
  }
 ],
 "metadata": {
  "kernelspec": {
   "display_name": "envpython",
   "language": "python",
   "name": "python3"
  },
  "language_info": {
   "codemirror_mode": {
    "name": "ipython",
    "version": 3
   },
   "file_extension": ".py",
   "mimetype": "text/x-python",
   "name": "python",
   "nbconvert_exporter": "python",
   "pygments_lexer": "ipython3",
   "version": "3.10.11"
  }
 },
 "nbformat": 4,
 "nbformat_minor": 2
}
