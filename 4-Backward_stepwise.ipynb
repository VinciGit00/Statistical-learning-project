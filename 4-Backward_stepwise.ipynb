{
 "cells": [
  {
   "cell_type": "code",
   "execution_count": null,
   "metadata": {},
   "outputs": [],
   "source": [
    "import pandas as pd\n",
    "import numpy as np\n",
    "from sklearn.linear_model import LinearRegression\n",
    "from sklearn.metrics import mean_squared_error\n",
    "from sklearn.model_selection import train_test_split"
   ]
  },
  {
   "cell_type": "code",
   "execution_count": null,
   "metadata": {},
   "outputs": [],
   "source": [
    "df = pd.read_csv(\"Dataset/universal_top_spotify_songs.csv\")\n",
    "df.head()"
   ]
  },
  {
   "cell_type": "code",
   "execution_count": null,
   "metadata": {},
   "outputs": [],
   "source": [
    "\n",
    "def forward_stepwise_selection(X, y):\n",
    "    selected_features = []\n",
    "    remaining_features = list(X.columns)\n",
    "    best_score = float('inf')  # Inizializza con un valore molto grande\n",
    "\n",
    "    while remaining_features:\n",
    "        scores = []\n",
    "        for feature in remaining_features:\n",
    "            model_features = selected_features + [feature]\n",
    "            X_subset = X[model_features]\n",
    "            X_train, X_test, y_train, y_test = train_test_split(X_subset, y, test_size=0.2, random_state=42)\n",
    "            model = LinearRegression()\n",
    "            model.fit(X_train, y_train)\n",
    "            y_pred = model.predict(X_test)\n",
    "            score = mean_squared_error(y_test, y_pred)\n",
    "            scores.append((score, feature))\n",
    "        \n",
    "        scores.sort()\n",
    "        best_score, best_feature = scores[0]\n",
    "        if best_score < best_score:\n",
    "            selected_features.append(best_feature)\n",
    "            remaining_features.remove(best_feature)\n",
    "        else:\n",
    "            break\n",
    "        \n",
    "    return selected_features"
   ]
  },
  {
   "cell_type": "code",
   "execution_count": null,
   "metadata": {},
   "outputs": [],
   "source": [
    "def backward_stepwise_selection(X, y):\n",
    "    remaining_features = list(X.columns)\n",
    "    best_score = mean_squared_error(y, np.zeros_like(y))  # MSE del modello con nessuna feature\n",
    "\n",
    "    while len(remaining_features) > 1:\n",
    "        scores = []\n",
    "        for feature in remaining_features:\n",
    "            model_features = remaining_features.copy()\n",
    "            model_features.remove(feature)\n",
    "            X_subset = X[model_features]\n",
    "            X_train, X_test, y_train, y_test = train_test_split(X_subset, y, test_size=0.2, random_state=42)\n",
    "            model = LinearRegression()\n",
    "            model.fit(X_train, y_train)\n",
    "            y_pred = model.predict(X_test)\n",
    "            score = mean_squared_error(y_test, y_pred)\n",
    "            scores.append((score, feature))\n",
    "        \n",
    "        scores.sort()\n",
    "        best_score, worst_feature = scores[0]\n",
    "        if best_score < best_score:\n",
    "            remaining_features.remove(worst_feature)\n",
    "        else:\n",
    "            break\n",
    "        \n",
    "    return remaining_features"
   ]
  },
  {
   "cell_type": "code",
   "execution_count": null,
   "metadata": {},
   "outputs": [],
   "source": [
    "\n",
    "numeric_columns = df.select_dtypes(include=['float64', 'int64']).columns\n",
    "X = df[numeric_columns].drop(['daily_rank'], axis=1)  # Rimuovi 'daily_rank' dalle features\n",
    "y = df['daily_rank']\n",
    "\n",
    "\n",
    "selected_features_forward = forward_stepwise_selection(X, y)\n",
    "print(\"Selected features (Forward Stepwise):\", selected_features_forward)\n",
    "\n",
    "\n",
    "selected_features_backward = backward_stepwise_selection(X, y)\n",
    "print(\"Selected features (Backward Stepwise):\", selected_features_backward)\n"
   ]
  }
 ],
 "metadata": {
  "language_info": {
   "name": "python"
  }
 },
 "nbformat": 4,
 "nbformat_minor": 2
}
